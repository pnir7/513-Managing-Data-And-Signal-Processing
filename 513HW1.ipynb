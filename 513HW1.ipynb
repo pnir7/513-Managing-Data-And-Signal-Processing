{
  "cells": [
    {
      "cell_type": "markdown",
      "metadata": {
        "id": "i1Pzyt6UMEBe"
      },
      "source": [
        "## TECHIN 513 HW1 – Modifying Signals\n",
        "\n",
        "Anqi Pan\n",
        "\n",
        "(This should be a markup cell, which means that when you run it you just get formated text.)"
      ]
    },
    {
      "cell_type": "code",
      "execution_count": null,
      "metadata": {
        "id": "RirlpKpeMEBh",
        "colab": {
          "base_uri": "https://localhost:8080/",
          "height": 104
        },
        "outputId": "77fe6533-6270-4c34-caf6-f7573a01c20f"
      },
      "outputs": [
        {
          "output_type": "stream",
          "name": "stdout",
          "text": [
            "Looking in indexes: https://pypi.org/simple, https://us-python.pkg.dev/colab-wheels/public/simple/\n",
            "Requirement already satisfied: simpleaudio in /usr/local/lib/python3.8/dist-packages (1.0.4)\n",
            "Looking in indexes: https://pypi.org/simple, https://us-python.pkg.dev/colab-wheels/public/simple/\n",
            "Requirement already satisfied: scipy in /usr/local/lib/python3.8/dist-packages (1.7.3)\n",
            "Requirement already satisfied: numpy<1.23.0,>=1.16.5 in /usr/local/lib/python3.8/dist-packages (from scipy) (1.21.6)\n"
          ]
        }
      ],
      "source": [
        "# We'll refer to this as the \"import cell.\" Every module you import should be imported here.\n",
        "%matplotlib notebook\n",
        "%pip install simpleaudio\n",
        "%pip install scipy\n",
        "import numpy as np\n",
        "import matplotlib\n",
        "import matplotlib.pyplot as plt\n",
        "import simpleaudio as sa\n",
        "# import whatever other modules you use in this lab -- there are more that you need than we've included "
      ]
    },
    {
      "cell_type": "markdown",
      "metadata": {
        "id": "I7BSBvphMEBi"
      },
      "source": [
        "## Summary\n",
        "\n",
        "In this lab, you will work through a series of exercises to introduce you to working with audio signals and explore the impact of different amplitude and time operations on signals.  This is a two-week hw.  You should plan on completing the first 2 assignments in the first week."
      ]
    },
    {
      "cell_type": "markdown",
      "metadata": {
        "id": "hzorGZexMEBj"
      },
      "source": [
        "## HW 1 turn in checklist\n",
        "\n",
        "•\tyour Jupyter or Colab notbooks (uploaded as .pdf with your outputs).\n",
        "\n",
        "Note: You can work together but you need to submit your own work. do not copy paste from each other\n"
      ]
    },
    {
      "cell_type": "markdown",
      "metadata": {
        "id": "P5L06vQBMEBk"
      },
      "source": [
        "## Assignment 1 -- Working with sound files"
      ]
    },
    {
      "cell_type": "code",
      "execution_count": null,
      "metadata": {
        "id": "d6OifVTqMEBk",
        "colab": {
          "base_uri": "https://localhost:8080/"
        },
        "outputId": "83be1ba0-ef1a-4656-e1c2-efe44091462b"
      },
      "outputs": [
        {
          "output_type": "stream",
          "name": "stdout",
          "text": [
            "Sampling rate =:  32000\n",
            "Shape of x1:  (50313,)\n"
          ]
        }
      ],
      "source": [
        "# Assignment 1 - Time Scaling Function\n",
        "\n",
        "# Part A\n",
        "\n",
        "import scipy.io.wavfile as wav\n",
        "\n",
        "# read in train.wav file\n",
        "def read_wav(fn):\n",
        "  fs, data = wav.read(fn)\n",
        "  return fs, data\n",
        "\n",
        "fs1, x1 = read_wav('train32.wav')\n",
        "\n",
        "# print the sampling rate and shape of x1\n",
        "print(\"Sampling rate =: \", fs1)\n",
        "print(\"Shape of x1: \", x1.shape)\n",
        "\n"
      ]
    },
    {
      "cell_type": "code",
      "source": [
        "# Part B\n",
        "\n",
        "import scipy.io.wavfile as wav\n",
        "\n",
        "# write out two new versions of the file with different sampling rates\n",
        "fs2 = int(fs1/2)\n",
        "fs3 = int(1.5*fs1)\n",
        "\n",
        "wav.write('train_16kHz.wav', fs2, x1)\n",
        "wav.write('train_48kHz.wav', fs3, x1)\n",
        "\n",
        "\n"
      ],
      "metadata": {
        "id": "rui6EwRuxsto"
      },
      "execution_count": null,
      "outputs": []
    },
    {
      "cell_type": "code",
      "source": [
        "# Part C\n",
        "\n",
        "import simpleaudio as sa\n",
        "\n",
        "# read in and play the three different versions of the train sound file\n",
        "train_original = sa.WaveObject.from_wave_file(\"train32.wav\")\n",
        "train_16kHz = sa.WaveObject.from_wave_file(\"train_16kHz.wav\")\n",
        "train_48kHz = sa.WaveObject.from_wave_file(\"train_48kHz.wav\")\n",
        "\n",
        "\n",
        "play_obj = train_original.play()\n",
        "play_obj.wait_done()\n",
        "\n",
        "play_obj = train_16kHz.play()\n",
        "play_obj.wait_done()\n",
        "\n",
        "play_obj = train_48kHz.play()\n",
        "play_obj.wait_done()"
      ],
      "metadata": {
        "id": "YK_wZe3b1RgJ"
      },
      "execution_count": null,
      "outputs": []
    },
    {
      "cell_type": "markdown",
      "metadata": {
        "id": "s_yp4IAyMEBl"
      },
      "source": [
        "###  Discussion\n",
        "\n",
        "Comment on how the audio changes when the incorrect sampling frequency is used.\n",
        "\n",
        "If the sampling frequency is being set higher than it should be, the audio would be in higher pitch and shorter, and vice versa.\n"
      ]
    },
    {
      "cell_type": "markdown",
      "metadata": {
        "id": "zZ4rlRG4MEBm"
      },
      "source": [
        "## Assignment 2 -- Amplitude Operations on Signals"
      ]
    },
    {
      "cell_type": "code",
      "execution_count": null,
      "metadata": {
        "id": "GMVCiB8jMEBm"
      },
      "outputs": [],
      "source": [
        "# Assignment 2 - Amplitude Operations on Signals\n",
        "\n",
        "# Part A\n",
        "# TODO: Code that solves A\n",
        "# Start with a comment section that explains what the input variables are\n",
        "\n",
        "# Create a discrete time signal s1 that is the same length as x1 and has value 1 for t=[0,0.5] and value 0.2 for t>0.5.\n",
        "\n",
        "import numpy as np\n",
        "from scipy.io.wavfile import read, write\n",
        "\n",
        "# Read in the wav file and get the sample rate and data\n",
        "fs, x1 = read(\"train32.wav\")\n",
        "\n",
        "#Determine the index corresponding to t=0.5\n",
        "n0 = int(0.5*fs)\n",
        "\n",
        "#Create the signal s1\n",
        "s1 = np.concatenate((np.ones(n0),0.2*np.ones(len(x1)-n0)))\n",
        "\n",
        "#Multiply x1 with s1 to create v1\n",
        "v1 = x1 * s1\n",
        "\n",
        "#Save v1 to a wav file\n",
        "wav.write(\"modified_train.wav\", fs, v1)\n",
        "\n"
      ]
    },
    {
      "cell_type": "code",
      "source": [
        "# Part B\n",
        "# TODO: Code that solves B\n",
        "\n",
        "# Create a discrete-time decaying ramp signal r1, that is the same length as x1. The signal should have value 1 at time 0 and linearly decay to value 0.\n",
        "# Create the signal r1\n",
        "r1 = np.linspace(1, 0, len(x1))\n",
        "\n",
        "# #Multiply x1 with r1 to create v2\n",
        "v2 = x1 * r1\n",
        "\n",
        "# Save v2 to a wav file\n",
        "wav.write(\"modified_train2.wav\", fs, v2)"
      ],
      "metadata": {
        "id": "eUJjeXRLCU4H"
      },
      "execution_count": null,
      "outputs": []
    },
    {
      "cell_type": "code",
      "source": [
        "# Part C\n",
        "# TODO: Code that solves C\n",
        "\n",
        "# Read in v1 and v2 using simpleaudio and play the two different modifications together with the original, to verify that the volume of the second whistle is reduced.\n",
        "\n",
        "import simpleaudio as sa\n",
        "wav.write(\"modified_train.wav\", np.round(fs), x1)\n",
        "wav.write(\"modified_train2.wav\", np.round(fs), x1)\n",
        "\n",
        "# Read in the original train.wav, v1, and v2\n",
        "original = sa.WaveObject.from_wave_file(\"train32.wav\")\n",
        "modified1 = sa.WaveObject.from_wave_file(\"modified_train.wav\")\n",
        "modified2 = sa.WaveObject.from_wave_file(\"modified_train2.wav\")\n",
        "\n",
        "# Play the original one\n",
        "original.play()\n",
        "\n",
        "# Play the modified versiona together with the original one\n",
        "play_obj1 = modified1.play()\n",
        "play_obj2 = modified2.play()\n",
        "play_obj1.wait_done()\n",
        "play_obj2.wait_done()\n"
      ],
      "metadata": {
        "id": "a3YMA3vWF3c8"
      },
      "execution_count": null,
      "outputs": []
    },
    {
      "cell_type": "markdown",
      "metadata": {
        "id": "pjXQ1FJTMEBn"
      },
      "source": [
        "###  Discussion\n",
        "\n",
        "Discuss the differences that the two modifications have on the signal. What would happen if you defined s1 to take value 2 for the [0,0.5] range? If you wanted a smooth but faster decay in amplitude, what signal might you use? \n",
        "\n",
        "\n",
        "In the first modification, there is no change for the first half second and then the sound decreases rapidly due to the amplitude being multiplied by 0.2. In contrast, the second modification gradually reduces the sound's amplitude from its original level to zero. If we set s1 to a value of 2 for the first half second, the sound's amplitude would theoretically be doubled (resulting in a much louder sound) during this time. However, when tested, this caused the speaker's sound to crack.\n",
        "\n",
        "If we want a smooth but faster decay in amplitude, we might use an exponential decay signal, such as an exponentially decaying sine wave or an exponentially decaying cosine wave. This would provide a smooth decay in amplitude, but at a faster rate than a linear decay."
      ]
    },
    {
      "cell_type": "markdown",
      "metadata": {
        "id": "sLTSfIRSMEBn"
      },
      "source": [
        "## Assignment 3 -- Time Scaling Audio Signals "
      ]
    },
    {
      "cell_type": "code",
      "execution_count": null,
      "metadata": {
        "id": "wOXro6zmMEBn"
      },
      "outputs": [],
      "source": [
        "# Assignment 3 -- Title of assignment 3\n",
        "\n",
        "# Part A\n",
        "# TODO: Code that solves A\n",
        "\n",
        "import numpy as np\n",
        "from scipy.signal import resample\n",
        "\n",
        "\n",
        "def timescale(x, fs, a):\n",
        "    #n, d = decimal.Decimal(a).as_integer_ratio()\n",
        "    [n, d] = (np.double(a)).as_integer_ratio()\n",
        "    y = sig.resample_poly(x.astype('float'),d,n)\n",
        "    t = np.arange(0,len(y),1)*(1.0/fs)\n",
        "    return y,t\n",
        "\n"
      ]
    },
    {
      "cell_type": "code",
      "source": [
        "# Part B\n",
        "# TODO: Code that solves B\n",
        "\n",
        "w, t_w = timescale(x1, fs1, 2)\n",
        "wav.write('train32_timescale2.wav', fs1, w)\n",
        "\n",
        "v, t_v = timescale(x1, fs1, 0.5)\n",
        "wav.write('train32_timescalehalf.wav', fs1, v)\n",
        "\n",
        "z, t_z = np.flip(x1), timescale(x1, fs1, 1)[1]\n",
        "z = np.ascontiguousarray(z)\n",
        "wav.write('train32_reverse.wav', fs1, z)\n"
      ],
      "metadata": {
        "id": "q5FGaBAdIrwi"
      },
      "execution_count": 98,
      "outputs": []
    },
    {
      "cell_type": "code",
      "source": [
        "# Part C\n",
        "# TODO: Code that solves C\n",
        "%matplotlib inline\n",
        "\n",
        "fig, axes = plt.subplots(4, 1, figsize=(6, 6))\n",
        "fig.tight_layout(pad=4.0)\n",
        "data_list = [x1, w, v, z]\n",
        "t_list = [t_z, t_w, t_v, t_z]\n",
        "title_list = ['train', 'w(t)', 'v(t)', 'z(t)']\n",
        "\n",
        "for i in range(len(data_list)):\n",
        "    data = data_list[i]\n",
        "    t = t_list[i]\n",
        "    title = title_list[i]\n",
        "    ax = axes[i]\n",
        "    ax.set_xlim(0, 4)\n",
        "    ax.set_ylim(-25000, 25000)\n",
        "    ax.set_xlabel('Time (ms)')\n",
        "    ax.set_ylabel('Amplitude')\n",
        "    ax.plot(t, data)\n",
        "    ax.set_title(title)\n",
        "\n",
        "plt.show()\n"
      ],
      "metadata": {
        "colab": {
          "base_uri": "https://localhost:8080/",
          "height": 409
        },
        "id": "IfAJNdLGI7t4",
        "outputId": "4abc4956-0574-423c-d68c-b9bb840ae2ae"
      },
      "execution_count": 99,
      "outputs": [
        {
          "output_type": "display_data",
          "data": {
            "text/plain": [
              "<Figure size 432x432 with 4 Axes>"
            ],
            "image/png": "[encoded data removed]"
          },
          "metadata": {
            "needs_background": "light"
          }
        }
      ]
    },
    {
      "cell_type": "code",
      "source": [
        "# Part D\n",
        "# TODO: Code that solves D\n",
        "\n",
        "wave_obj = sa.WaveObject.from_wave_file('train32_timescale2.wav')\n",
        "play_obj = wave_obj.play()\n",
        "play_obj.wait_done()\n",
        "\n",
        "wave_obj = sa.WaveObject.from_wave_file('train32_timescalehalf.wav')\n",
        "play_obj = wave_obj.play()\n",
        "play_obj.wait_done()\n",
        "\n",
        "wave_obj = sa.WaveObject.from_wave_file('train32_reverse.wav')\n",
        "play_obj = wave_obj.play()\n",
        "play_obj.wait_done()"
      ],
      "metadata": {
        "id": "SLU6qzV2d6Oj"
      },
      "execution_count": null,
      "outputs": []
    },
    {
      "cell_type": "markdown",
      "metadata": {
        "id": "67Hdx23WMEBo"
      },
      "source": [
        "###  Discussion\n",
        "\n",
        "Suppose a student runs the figure command before every call to subplot. When you run your script, what changes do you expect to see? How will the plots change?\n",
        "\n",
        "Instead of being displayed together in a single figure with multiple subplots, each subplot will have its own individual figure window. Additionally, the subplots will not have a shared x-axis and y-axis, resulting in independent scales and ranges for each subplot. This may make it more difficult to compare the various subplots."
      ]
    },
    {
      "cell_type": "markdown",
      "metadata": {
        "id": "zAqTbm56MEBo"
      },
      "source": [
        "## Assignment 4 -- Time Shift Operations"
      ]
    },
    {
      "cell_type": "code",
      "execution_count": 102,
      "metadata": {
        "id": "iCBVCMOGMEBo"
      },
      "outputs": [],
      "source": [
        "# Part A\n",
        "# TODO: Code that solves A\n",
        "\n",
        "def timeshift(x, fs, t0):\n",
        "    n0 = abs(int(t0*fs))\n",
        "    if t0 == 0:\n",
        "        y = x\n",
        "    elif t0 < 0:\n",
        "        y = np.concatenate((np.zeros(n0), x))\n",
        "    else:\n",
        "        if n0 > len(x):\n",
        "            y = np.zeros(len(x))\n",
        "        else:\n",
        "            y = np.concatenate((x[n0:], np.zeros(n0)))\n",
        "    t = np.arange(0, len(y), 1) * (1/fs)\n",
        "    return y, t"
      ]
    },
    {
      "cell_type": "code",
      "source": [
        "# Part B\n",
        "# TODO: Code that solves B\n",
        "_, t1 = timeshift(x1, fs1, 0)\n",
        "x11, t11 = timeshift(x1, fs1, 0.5)\n",
        "x111, t111 = timeshift(x1, fs1, -2)\n",
        "plt.figure(5).set_figheight(2)\n",
        "plt.plot(t1, x1)\n",
        "plt.xlim(0, 4)\n",
        "plt.ylim(-35000, 35000)\n",
        "plt.ylabel(\"Amplitude\")\n",
        "plt.xlabel(\"Time\")\n",
        "plt.title(\"x1(t)\")\n",
        "\n",
        "plt.figure(6).set_figheight(2)\n",
        "plt.plot(t11, x11)\n",
        "plt.xlim(0, 4)\n",
        "plt.ylim(-35000, 35000)\n",
        "plt.ylabel(\"Amplitude\")\n",
        "plt.xlabel(\"Time\")\n",
        "plt.title(\"x1(t+0.5)\")\n",
        "\n",
        "plt.figure(7).set_figheight(2)\n",
        "plt.plot(t111, x111)\n",
        "plt.xlim(0, 4)\n",
        "plt.ylim(-35000, 35000)\n",
        "plt.ylabel(\"Amplitude\")\n",
        "plt.xlabel(\"Time\")\n",
        "plt.title(\"x1(t-2)\")\n",
        "\n",
        "plt.show()"
      ],
      "metadata": {
        "colab": {
          "base_uri": "https://localhost:8080/",
          "height": 527
        },
        "id": "kdlKhw1Jglis",
        "outputId": "a5850110-aae2-4c9d-91c7-e0398a739b29"
      },
      "execution_count": 103,
      "outputs": [
        {
          "output_type": "display_data",
          "data": {
            "text/plain": [
              "<Figure size 432x144 with 1 Axes>"
            ],
            "image/png": "[encoded data removed]"
          },
          "metadata": {
            "needs_background": "light"
          }
        },
        {
          "output_type": "display_data",
          "data": {
            "text/plain": [
              "<Figure size 432x144 with 1 Axes>"
            ],
            "image/png": "[encoded data removed]"
          },
          "metadata": {
            "needs_background": "light"
          }
        },
        {
          "output_type": "display_data",
          "data": {
            "text/plain": [
              "<Figure size 432x144 with 1 Axes>"
            ],
            "image/png": "[encoded data removed]"
          },
          "metadata": {
            "needs_background": "light"
          }
        }
      ]
    },
    {
      "cell_type": "code",
      "source": [
        "# Part C\n",
        "# TODO: Code that solves C\n",
        "\n",
        "wav.write('train_x1.wav', fs1, x1.astype(np.int16))\n",
        "wav.write('train_x11.wav', fs1, x11.astype(np.int16))\n",
        "wav.write('train_x111.wav', fs1, x111.astype(np.int16))\n",
        "\n",
        "sa.WaveObject.from_wave_file('train_x1.wav').play().wait_done()\n",
        "sa.WaveObject.from_wave_file('train_x11.wav').play().wait_done()\n",
        "sa.WaveObject.from_wave_file('train_x111.wav').play().wait_done()"
      ],
      "metadata": {
        "id": "Upeje5ZNnSGe"
      },
      "execution_count": null,
      "outputs": []
    },
    {
      "cell_type": "markdown",
      "metadata": {
        "id": "duo6O8G7MEBo"
      },
      "source": [
        "### Discussion\n",
        "\n",
        "There is a trivial case that you should ideally test for. If the shift is zero, then the output is the original signal. If the shift is an advance bigger than the original signal, then the output will be zero. Comment on whether your current implementation correctly handles these cases and whether there is a better implementation.\n",
        "\n",
        "When the shift is set to zero, the signal remains unchanged and returns to its original state. However, if the shift is set to a value greater than the original signal, the original signal content will not be played. Therefore, the current implementation is functioning as intended.\n"
      ]
    },
    {
      "cell_type": "code",
      "source": [],
      "metadata": {
        "id": "vrnzpXwyoEMm"
      },
      "execution_count": null,
      "outputs": []
    }
  ],
  "metadata": {
    "kernelspec": {
      "display_name": "Python 3",
      "language": "python",
      "name": "python3"
    },
    "language_info": {
      "codemirror_mode": {
        "name": "ipython",
        "version": 3
      },
      "file_extension": ".py",
      "mimetype": "text/x-python",
      "name": "python",
      "nbconvert_exporter": "python",
      "pygments_lexer": "ipython3",
      "version": "3.7.4"
    },
    "colab": {
      "provenance": []
    }
  },
  "nbformat": 4,
  "nbformat_minor": 0
}